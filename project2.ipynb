{
 "cells": [
  {
   "cell_type": "markdown",
   "metadata": {},
   "source": [
    "## Programming for Data Analysis Project\n",
    "\n",
    "**Francesco Troja**\n",
    "\n",
    "***"
   ]
  },
  {
   "cell_type": "markdown",
   "metadata": {},
   "source": [
    "#### An analysis of paleo-present climate data\n",
    "\n",
    ">• Analyse CO2 vs Temperature Anomaly from 800kyrs – present;\n",
    ">\n",
    ">• Examine one other (paleo/modern) features (e.g. CH4 or polar ice-coverage);\n",
    ">\n",
    ">• Examine Irish context;\n",
    ">\n",
    ">• Fuse and analyse data from various data sources and format fused data set as a pandas dataframe and export to csv and json formats;\n",
    ">\n",
    ">• For all of the above variables, analyse the data, the trends and the relationships between them (temporal leads/lags/frequency analysis);\n",
    ">\n",
    ">• Predict global temperature anomaly over next few decades (synthesise data) and compare to published climate models if atmospheric CO2 trends continue;\n",
    ">\n",
    ">• Comment on accelerated warming based on very latest features (e.g. temperature/polar-icecoverage)."
   ]
  },
  {
   "cell_type": "markdown",
   "metadata": {},
   "source": [
    "***\n",
    "End"
   ]
  }
 ],
 "metadata": {
  "language_info": {
   "name": "python"
  }
 },
 "nbformat": 4,
 "nbformat_minor": 2
}
